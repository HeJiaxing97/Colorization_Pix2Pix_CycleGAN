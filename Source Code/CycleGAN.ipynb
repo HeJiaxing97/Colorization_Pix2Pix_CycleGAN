{
 "cells": [
  {
   "cell_type": "markdown",
   "metadata": {
    "colab_type": "text",
    "id": "view-in-github"
   },
   "source": [
    "<a href=\"https://colab.research.google.com/github/bkkaggle/pytorch-CycleGAN-and-pix2pix/blob/master/CycleGAN.ipynb\" target=\"_parent\"><img src=\"https://colab.research.google.com/assets/colab-badge.svg\" alt=\"Open In Colab\"/></a>"
   ]
  },
  {
   "cell_type": "markdown",
   "metadata": {
    "colab_type": "text",
    "id": "5VIGyIus8Vr7"
   },
   "source": [
    "Take a look at the [repository](https://github.com/junyanz/pytorch-CycleGAN-and-pix2pix) for more information"
   ]
  },
  {
   "cell_type": "markdown",
   "metadata": {
    "colab_type": "text",
    "id": "7wNjDKdQy35h"
   },
   "source": [
    "# Install"
   ]
  },
  {
   "cell_type": "code",
   "execution_count": 1,
   "metadata": {
    "colab": {},
    "colab_type": "code",
    "id": "TRm-USlsHgEV"
   },
   "outputs": [
    {
     "name": "stdout",
     "output_type": "stream",
     "text": [
      "Cloning into 'pytorch-CycleGAN-and-pix2pix'...\n",
      "remote: Enumerating objects: 2246, done.\u001b[K\n",
      "remote: Total 2246 (delta 0), reused 0 (delta 0), pack-reused 2246\u001b[K\n",
      "Receiving objects: 100% (2246/2246), 8.04 MiB | 445.00 KiB/s, done.\n",
      "Resolving deltas: 100% (1456/1456), done.\n"
     ]
    }
   ],
   "source": [
    "!git clone https://github.com/junyanz/pytorch-CycleGAN-and-pix2pix"
   ]
  },
  {
   "cell_type": "code",
   "execution_count": 2,
   "metadata": {
    "colab": {},
    "colab_type": "code",
    "id": "Pt3igws3eiVp"
   },
   "outputs": [],
   "source": [
    "import os\n",
    "os.chdir('pytorch-CycleGAN-and-pix2pix/')"
   ]
  },
  {
   "cell_type": "code",
   "execution_count": 3,
   "metadata": {
    "colab": {},
    "colab_type": "code",
    "id": "z1EySlOXwwoa"
   },
   "outputs": [
    {
     "name": "stdout",
     "output_type": "stream",
     "text": [
      "Collecting torch>=0.4.1 (from -r requirements.txt (line 1))\n",
      "\u001b[?25l  Downloading https://files.pythonhosted.org/packages/59/6f/cdee668c94f5efb3745e9485765fd6b4918a855f7d36c0514ddf38daaddf/torch-1.5.0-cp37-none-macosx_10_9_x86_64.whl (80.5MB)\n",
      "\u001b[K     |████████████████████████████████| 80.5MB 727kB/s eta 0:00:01     |████▋                           | 11.5MB 5.2MB/s eta 0:00:14\n",
      "\u001b[?25hCollecting torchvision>=0.2.1 (from -r requirements.txt (line 2))\n",
      "\u001b[?25l  Downloading https://files.pythonhosted.org/packages/fb/63/fbaffd7340c3c324279fb2b51846ba7f4f7705d469f1cb7578c586848016/torchvision-0.6.0-cp37-cp37m-macosx_10_9_x86_64.whl (436kB)\n",
      "\u001b[K     |████████████████████████████████| 440kB 3.0MB/s eta 0:00:01\n",
      "\u001b[?25hCollecting dominate>=2.3.1 (from -r requirements.txt (line 3))\n",
      "  Downloading https://files.pythonhosted.org/packages/4f/e6/794a119963b7cfe4bd41177c8f9d4195fe901652f04189fbd2edf513c7b2/dominate-2.5.1-py2.py3-none-any.whl\n",
      "Collecting visdom>=0.1.8.3 (from -r requirements.txt (line 4))\n",
      "\u001b[?25l  Downloading https://files.pythonhosted.org/packages/c9/75/e078f5a2e1df7e0d3044749089fc2823e62d029cc027ed8ae5d71fafcbdc/visdom-0.1.8.9.tar.gz (676kB)\n",
      "\u001b[K     |████████████████████████████████| 686kB 7.7MB/s eta 0:00:01\n",
      "\u001b[?25hRequirement already satisfied: future in /usr/local/anaconda3/lib/python3.7/site-packages (from torch>=0.4.1->-r requirements.txt (line 1)) (0.17.1)\n",
      "Requirement already satisfied: numpy in /usr/local/anaconda3/lib/python3.7/site-packages (from torch>=0.4.1->-r requirements.txt (line 1)) (1.17.2)\n",
      "Requirement already satisfied: pillow>=4.1.1 in /usr/local/anaconda3/lib/python3.7/site-packages (from torchvision>=0.2.1->-r requirements.txt (line 2)) (6.2.0)\n",
      "Requirement already satisfied: scipy in /usr/local/anaconda3/lib/python3.7/site-packages (from visdom>=0.1.8.3->-r requirements.txt (line 4)) (1.3.1)\n",
      "Requirement already satisfied: requests in /usr/local/anaconda3/lib/python3.7/site-packages (from visdom>=0.1.8.3->-r requirements.txt (line 4)) (2.22.0)\n",
      "Requirement already satisfied: tornado in /usr/local/anaconda3/lib/python3.7/site-packages (from visdom>=0.1.8.3->-r requirements.txt (line 4)) (6.0.3)\n",
      "Requirement already satisfied: pyzmq in /usr/local/anaconda3/lib/python3.7/site-packages (from visdom>=0.1.8.3->-r requirements.txt (line 4)) (18.1.0)\n",
      "Requirement already satisfied: six in /usr/local/anaconda3/lib/python3.7/site-packages (from visdom>=0.1.8.3->-r requirements.txt (line 4)) (1.12.0)\n",
      "Collecting jsonpatch (from visdom>=0.1.8.3->-r requirements.txt (line 4))\n",
      "  Downloading https://files.pythonhosted.org/packages/82/53/73ca86f2a680c705dcd1708be4887c559dfe9ed250486dd3ccd8821b8ccb/jsonpatch-1.25-py2.py3-none-any.whl\n",
      "Collecting torchfile (from visdom>=0.1.8.3->-r requirements.txt (line 4))\n",
      "  Downloading https://files.pythonhosted.org/packages/91/af/5b305f86f2d218091af657ddb53f984ecbd9518ca9fe8ef4103a007252c9/torchfile-0.1.0.tar.gz\n",
      "Collecting websocket-client (from visdom>=0.1.8.3->-r requirements.txt (line 4))\n",
      "\u001b[?25l  Downloading https://files.pythonhosted.org/packages/4c/5f/f61b420143ed1c8dc69f9eaec5ff1ac36109d52c80de49d66e0c36c3dfdf/websocket_client-0.57.0-py2.py3-none-any.whl (200kB)\n",
      "\u001b[K     |████████████████████████████████| 204kB 5.0MB/s eta 0:00:01\n",
      "\u001b[?25hRequirement already satisfied: certifi>=2017.4.17 in /usr/local/anaconda3/lib/python3.7/site-packages (from requests->visdom>=0.1.8.3->-r requirements.txt (line 4)) (2019.9.11)\n",
      "Requirement already satisfied: chardet<3.1.0,>=3.0.2 in /usr/local/anaconda3/lib/python3.7/site-packages (from requests->visdom>=0.1.8.3->-r requirements.txt (line 4)) (3.0.4)\n",
      "Requirement already satisfied: urllib3!=1.25.0,!=1.25.1,<1.26,>=1.21.1 in /usr/local/anaconda3/lib/python3.7/site-packages (from requests->visdom>=0.1.8.3->-r requirements.txt (line 4)) (1.24.2)\n",
      "Requirement already satisfied: idna<2.9,>=2.5 in /usr/local/anaconda3/lib/python3.7/site-packages (from requests->visdom>=0.1.8.3->-r requirements.txt (line 4)) (2.8)\n",
      "Collecting jsonpointer>=1.9 (from jsonpatch->visdom>=0.1.8.3->-r requirements.txt (line 4))\n",
      "  Downloading https://files.pythonhosted.org/packages/18/b0/a80d29577c08eea401659254dfaed87f1af45272899e1812d7e01b679bc5/jsonpointer-2.0-py2.py3-none-any.whl\n",
      "Building wheels for collected packages: visdom, torchfile\n",
      "  Building wheel for visdom (setup.py) ... \u001b[?25ldone\n",
      "\u001b[?25h  Created wheel for visdom: filename=visdom-0.1.8.9-cp37-none-any.whl size=655252 sha256=edc3d221e5c6d3fcd12a33550f789980056d7be7409bdcd3a35e2957ed168c13\n",
      "  Stored in directory: /Users/marilenabudan/Library/Caches/pip/wheels/70/19/a7/6d589ed967f4dfefd33bc166d081257bd4ed0cb618dccfd62a\n",
      "  Building wheel for torchfile (setup.py) ... \u001b[?25ldone\n",
      "\u001b[?25h  Created wheel for torchfile: filename=torchfile-0.1.0-cp37-none-any.whl size=5712 sha256=6de388f7ef86b85f892d7ddc8c182bb8ff4b911da1b43fa86da2ebec59173978\n",
      "  Stored in directory: /Users/marilenabudan/Library/Caches/pip/wheels/b1/c3/d6/9a1cc8f3a99a0fc1124cae20153f36af59a6e683daca0a0814\n",
      "Successfully built visdom torchfile\n",
      "Installing collected packages: torch, torchvision, dominate, jsonpointer, jsonpatch, torchfile, websocket-client, visdom\n",
      "Successfully installed dominate-2.5.1 jsonpatch-1.25 jsonpointer-2.0 torch-1.5.0 torchfile-0.1.0 torchvision-0.6.0 visdom-0.1.8.9 websocket-client-0.57.0\n"
     ]
    }
   ],
   "source": [
    "!pip install -r requirements.txt"
   ]
  },
  {
   "cell_type": "markdown",
   "metadata": {
    "colab_type": "text",
    "id": "8daqlgVhw29P"
   },
   "source": [
    "# Datasets\n",
    "\n",
    "Download one of the official datasets with:\n",
    "\n",
    "-   `bash ./datasets/download_cyclegan_dataset.sh [apple2orange, orange2apple, summer2winter_yosemite, winter2summer_yosemite, horse2zebra, zebra2horse, monet2photo, style_monet, style_cezanne, style_ukiyoe, style_vangogh, sat2map, map2sat, cityscapes_photo2label, cityscapes_label2photo, facades_photo2label, facades_label2photo, iphone2dslr_flower]`\n",
    "\n",
    "Or use your own dataset by creating the appropriate folders and adding in the images.\n",
    "\n",
    "-   Create a dataset folder under `/dataset` for your dataset.\n",
    "-   Create subfolders `testA`, `testB`, `trainA`, and `trainB` under your dataset's folder. Place any images you want to transform from a to b (cat2dog) in the `testA` folder, images you want to transform from b to a (dog2cat) in the `testB` folder, and do the same for the `trainA` and `trainB` folders."
   ]
  },
  {
   "cell_type": "code",
   "execution_count": 4,
   "metadata": {
    "colab": {},
    "colab_type": "code",
    "id": "vrdOettJxaCc"
   },
   "outputs": [
    {
     "name": "stdout",
     "output_type": "stream",
     "text": [
      "Specified [horse2zebra]\r\n",
      "./datasets/download_cyclegan_dataset.sh: line 18: wget: command not found\r\n",
      "unzip:  cannot find or open ./datasets/horse2zebra.zip, ./datasets/horse2zebra.zip.zip or ./datasets/horse2zebra.zip.ZIP.\r\n",
      "rm: ./datasets/horse2zebra.zip: No such file or directory\r\n"
     ]
    }
   ],
   "source": [
    "!bash ./datasets/download_cyclegan_dataset.sh horse2zebra"
   ]
  },
  {
   "cell_type": "markdown",
   "metadata": {
    "colab_type": "text",
    "id": "gdUz4116xhpm"
   },
   "source": [
    "# Pretrained models\n",
    "\n",
    "Download one of the official pretrained models with:\n",
    "\n",
    "-   `bash ./scripts/download_cyclegan_model.sh [apple2orange, orange2apple, summer2winter_yosemite, winter2summer_yosemite, horse2zebra, zebra2horse, monet2photo, style_monet, style_cezanne, style_ukiyoe, style_vangogh, sat2map, map2sat, cityscapes_photo2label, cityscapes_label2photo, facades_photo2label, facades_label2photo, iphone2dslr_flower]`\n",
    "\n",
    "Or add your own pretrained model to `./checkpoints/{NAME}_pretrained/latest_net_G.pt`"
   ]
  },
  {
   "cell_type": "code",
   "execution_count": 5,
   "metadata": {
    "colab": {},
    "colab_type": "code",
    "id": "B75UqtKhxznS"
   },
   "outputs": [
    {
     "name": "stdout",
     "output_type": "stream",
     "text": [
      "Note: available models are apple2orange, orange2apple, summer2winter_yosemite, winter2summer_yosemite, horse2zebra, zebra2horse, monet2photo, style_monet, style_cezanne, style_ukiyoe, style_vangogh, sat2map, map2sat, cityscapes_photo2label, cityscapes_label2photo, facades_photo2label, facades_label2photo, iphone2dslr_flower\r\n",
      "Specified [horse2zebra]\r\n",
      "./scripts/download_cyclegan_model.sh: line 11: wget: command not found\r\n"
     ]
    }
   ],
   "source": [
    "!bash ./scripts/download_cyclegan_model.sh horse2zebra"
   ]
  },
  {
   "cell_type": "markdown",
   "metadata": {
    "colab_type": "text",
    "id": "yFw1kDQBx3LN"
   },
   "source": [
    "# Training\n",
    "\n",
    "-   `python train.py --dataroot ./datasets/horse2zebra --name horse2zebra --model cycle_gan`\n",
    "\n",
    "Change the `--dataroot` and `--name` to your own dataset's path and model's name. Use `--gpu_ids 0,1,..` to train on multiple GPUs and `--batch_size` to change the batch size. I've found that a batch size of 16 fits onto 4 V100s and can finish training an epoch in ~90s.\n",
    "\n",
    "Once your model has trained, copy over the last checkpoint to a format that the testing model can automatically detect:\n",
    "\n",
    "Use `cp ./checkpoints/horse2zebra/latest_net_G_A.pth ./checkpoints/horse2zebra/latest_net_G.pth` if you want to transform images from class A to class B and `cp ./checkpoints/horse2zebra/latest_net_G_B.pth ./checkpoints/horse2zebra/latest_net_G.pth` if you want to transform images from class B to class A.\n"
   ]
  },
  {
   "cell_type": "code",
   "execution_count": 6,
   "metadata": {
    "colab": {},
    "colab_type": "code",
    "id": "0sp7TCT2x9dB"
   },
   "outputs": [
    {
     "name": "stdout",
     "output_type": "stream",
     "text": [
      "----------------- Options ---------------\r\n",
      "               batch_size: 1                             \r\n",
      "                    beta1: 0.5                           \r\n",
      "          checkpoints_dir: ./checkpoints                 \r\n",
      "           continue_train: False                         \r\n",
      "                crop_size: 256                           \r\n",
      "                 dataroot: ./datasets/horse2zebra        \t[default: None]\r\n",
      "             dataset_mode: unaligned                     \r\n",
      "                direction: AtoB                          \r\n",
      "              display_env: main                          \r\n",
      "             display_freq: 400                           \r\n",
      "               display_id: 1                             \r\n",
      "            display_ncols: 4                             \r\n",
      "             display_port: 8097                          \r\n",
      "           display_server: http://localhost              \r\n",
      "          display_winsize: 256                           \r\n",
      "                    epoch: latest                        \r\n",
      "              epoch_count: 1                             \r\n",
      "                 gan_mode: lsgan                         \r\n",
      "                  gpu_ids: 0                             \r\n",
      "                init_gain: 0.02                          \r\n",
      "                init_type: normal                        \r\n",
      "                 input_nc: 3                             \r\n",
      "                  isTrain: True                          \t[default: None]\r\n",
      "                 lambda_A: 10.0                          \r\n",
      "                 lambda_B: 10.0                          \r\n",
      "          lambda_identity: 0.5                           \r\n",
      "                load_iter: 0                             \t[default: 0]\r\n",
      "                load_size: 286                           \r\n",
      "                       lr: 0.0002                        \r\n",
      "           lr_decay_iters: 50                            \r\n",
      "                lr_policy: linear                        \r\n",
      "         max_dataset_size: inf                           \r\n",
      "                    model: cycle_gan                     \r\n",
      "                 n_epochs: 100                           \r\n",
      "           n_epochs_decay: 100                           \r\n",
      "               n_layers_D: 3                             \r\n",
      "                     name: horse2zebra                   \t[default: experiment_name]\r\n",
      "                      ndf: 64                            \r\n",
      "                     netD: basic                         \r\n",
      "                     netG: resnet_9blocks                \r\n",
      "                      ngf: 64                            \r\n",
      "               no_dropout: True                          \r\n",
      "                  no_flip: False                         \r\n",
      "                  no_html: False                         \r\n",
      "                     norm: instance                      \r\n",
      "              num_threads: 4                             \r\n",
      "                output_nc: 3                             \r\n",
      "                    phase: train                         \r\n",
      "                pool_size: 50                            \r\n",
      "               preprocess: resize_and_crop               \r\n",
      "               print_freq: 100                           \r\n",
      "             save_by_iter: False                         \r\n",
      "          save_epoch_freq: 5                             \r\n",
      "         save_latest_freq: 5000                          \r\n",
      "           serial_batches: False                         \r\n",
      "                   suffix:                               \r\n",
      "         update_html_freq: 1000                          \r\n",
      "                  verbose: False                         \r\n",
      "----------------- End -------------------\r\n",
      "Traceback (most recent call last):\r\n",
      "  File \"train.py\", line 28, in <module>\r\n",
      "    opt = TrainOptions().parse()   # get training options\r\n",
      "  File \"/Users/marilenabudan/Desktop/Uni/3r trim/Deep Learning/Final project/pytorch-CycleGAN-and-pix2pix-master/pytorch-CycleGAN-and-pix2pix/options/base_options.py\", line 133, in parse\r\n",
      "    torch.cuda.set_device(opt.gpu_ids[0])\r\n",
      "  File \"/usr/local/anaconda3/lib/python3.7/site-packages/torch/cuda/__init__.py\", line 245, in set_device\r\n",
      "    torch._C._cuda_setDevice(device)\r\n",
      "AttributeError: module 'torch._C' has no attribute '_cuda_setDevice'\r\n"
     ]
    }
   ],
   "source": [
    "!python train.py --dataroot ./datasets/horse2zebra --name horse2zebra --model cycle_gan"
   ]
  },
  {
   "cell_type": "markdown",
   "metadata": {
    "colab_type": "text",
    "id": "9UkcaFZiyASl"
   },
   "source": [
    "# Testing\n",
    "\n",
    "-   `python test.py --dataroot datasets/horse2zebra/testA --name horse2zebra_pretrained --model test --no_dropout`\n",
    "\n",
    "Change the `--dataroot` and `--name` to be consistent with your trained model's configuration.\n",
    "\n",
    "> from https://github.com/junyanz/pytorch-CycleGAN-and-pix2pix:\n",
    "> The option --model test is used for generating results of CycleGAN only for one side. This option will automatically set --dataset_mode single, which only loads the images from one set. On the contrary, using --model cycle_gan requires loading and generating results in both directions, which is sometimes unnecessary. The results will be saved at ./results/. Use --results_dir {directory_path_to_save_result} to specify the results directory.\n",
    "\n",
    "> For your own experiments, you might want to specify --netG, --norm, --no_dropout to match the generator architecture of the trained model."
   ]
  },
  {
   "cell_type": "code",
   "execution_count": 7,
   "metadata": {
    "colab": {},
    "colab_type": "code",
    "id": "uCsKkEq0yGh0"
   },
   "outputs": [
    {
     "name": "stdout",
     "output_type": "stream",
     "text": [
      "----------------- Options ---------------\r\n",
      "             aspect_ratio: 1.0                           \r\n",
      "               batch_size: 1                             \r\n",
      "          checkpoints_dir: ./checkpoints                 \r\n",
      "                crop_size: 256                           \r\n",
      "                 dataroot: datasets/horse2zebra/testA    \t[default: None]\r\n",
      "             dataset_mode: single                        \r\n",
      "                direction: AtoB                          \r\n",
      "          display_winsize: 256                           \r\n",
      "                    epoch: latest                        \r\n",
      "                     eval: False                         \r\n",
      "                  gpu_ids: 0                             \r\n",
      "                init_gain: 0.02                          \r\n",
      "                init_type: normal                        \r\n",
      "                 input_nc: 3                             \r\n",
      "                  isTrain: False                         \t[default: None]\r\n",
      "                load_iter: 0                             \t[default: 0]\r\n",
      "                load_size: 256                           \r\n",
      "         max_dataset_size: inf                           \r\n",
      "                    model: test                          \r\n",
      "             model_suffix:                               \r\n",
      "               n_layers_D: 3                             \r\n",
      "                     name: horse2zebra_pretrained        \t[default: experiment_name]\r\n",
      "                      ndf: 64                            \r\n",
      "                     netD: basic                         \r\n",
      "                     netG: resnet_9blocks                \r\n",
      "                      ngf: 64                            \r\n",
      "               no_dropout: True                          \t[default: False]\r\n",
      "                  no_flip: False                         \r\n",
      "                     norm: instance                      \r\n",
      "                 num_test: 50                            \r\n",
      "              num_threads: 4                             \r\n",
      "                output_nc: 3                             \r\n",
      "                    phase: test                          \r\n",
      "               preprocess: resize_and_crop               \r\n",
      "              results_dir: ./results/                    \r\n",
      "           serial_batches: False                         \r\n",
      "                   suffix:                               \r\n",
      "                  verbose: False                         \r\n",
      "----------------- End -------------------\r\n",
      "Traceback (most recent call last):\r\n",
      "  File \"test.py\", line 38, in <module>\r\n",
      "    opt = TestOptions().parse()  # get test options\r\n",
      "  File \"/Users/marilenabudan/Desktop/Uni/3r trim/Deep Learning/Final project/pytorch-CycleGAN-and-pix2pix-master/pytorch-CycleGAN-and-pix2pix/options/base_options.py\", line 133, in parse\r\n",
      "    torch.cuda.set_device(opt.gpu_ids[0])\r\n",
      "  File \"/usr/local/anaconda3/lib/python3.7/site-packages/torch/cuda/__init__.py\", line 245, in set_device\r\n",
      "    torch._C._cuda_setDevice(device)\r\n",
      "AttributeError: module 'torch._C' has no attribute '_cuda_setDevice'\r\n"
     ]
    }
   ],
   "source": [
    "!python test.py --dataroot datasets/horse2zebra/testA --name horse2zebra_pretrained --model test --no_dropout"
   ]
  },
  {
   "cell_type": "markdown",
   "metadata": {
    "colab_type": "text",
    "id": "OzSKIPUByfiN"
   },
   "source": [
    "# Visualize"
   ]
  },
  {
   "cell_type": "code",
   "execution_count": 9,
   "metadata": {
    "colab": {},
    "colab_type": "code",
    "id": "9Mgg8raPyizq"
   },
   "outputs": [
    {
     "ename": "FileNotFoundError",
     "evalue": "[Errno 2] No such file or directory: './results/horse2zebra_pretrained/test_latest/images/n02381460_1010_fake.png'",
     "output_type": "error",
     "traceback": [
      "\u001b[0;31m---------------------------------------------------------------------------\u001b[0m",
      "\u001b[0;31mFileNotFoundError\u001b[0m                         Traceback (most recent call last)",
      "\u001b[0;32m<ipython-input-9-469f685ff4ed>\u001b[0m in \u001b[0;36m<module>\u001b[0;34m\u001b[0m\n\u001b[1;32m      1\u001b[0m \u001b[0;32mimport\u001b[0m \u001b[0mmatplotlib\u001b[0m\u001b[0;34m.\u001b[0m\u001b[0mpyplot\u001b[0m \u001b[0;32mas\u001b[0m \u001b[0mplt\u001b[0m\u001b[0;34m\u001b[0m\u001b[0;34m\u001b[0m\u001b[0m\n\u001b[1;32m      2\u001b[0m \u001b[0;34m\u001b[0m\u001b[0m\n\u001b[0;32m----> 3\u001b[0;31m \u001b[0mimg\u001b[0m \u001b[0;34m=\u001b[0m \u001b[0mplt\u001b[0m\u001b[0;34m.\u001b[0m\u001b[0mimread\u001b[0m\u001b[0;34m(\u001b[0m\u001b[0;34m'./results/horse2zebra_pretrained/test_latest/images/n02381460_1010_fake.png'\u001b[0m\u001b[0;34m)\u001b[0m\u001b[0;34m\u001b[0m\u001b[0;34m\u001b[0m\u001b[0m\n\u001b[0m\u001b[1;32m      4\u001b[0m \u001b[0mplt\u001b[0m\u001b[0;34m.\u001b[0m\u001b[0mimshow\u001b[0m\u001b[0;34m(\u001b[0m\u001b[0mimg\u001b[0m\u001b[0;34m)\u001b[0m\u001b[0;34m\u001b[0m\u001b[0;34m\u001b[0m\u001b[0m\n",
      "\u001b[0;32m/usr/local/anaconda3/lib/python3.7/site-packages/matplotlib/pyplot.py\u001b[0m in \u001b[0;36mimread\u001b[0;34m(fname, format)\u001b[0m\n\u001b[1;32m   2133\u001b[0m \u001b[0;34m@\u001b[0m\u001b[0mdocstring\u001b[0m\u001b[0;34m.\u001b[0m\u001b[0mcopy\u001b[0m\u001b[0;34m(\u001b[0m\u001b[0mmatplotlib\u001b[0m\u001b[0;34m.\u001b[0m\u001b[0mimage\u001b[0m\u001b[0;34m.\u001b[0m\u001b[0mimread\u001b[0m\u001b[0;34m)\u001b[0m\u001b[0;34m\u001b[0m\u001b[0;34m\u001b[0m\u001b[0m\n\u001b[1;32m   2134\u001b[0m \u001b[0;32mdef\u001b[0m \u001b[0mimread\u001b[0m\u001b[0;34m(\u001b[0m\u001b[0mfname\u001b[0m\u001b[0;34m,\u001b[0m \u001b[0mformat\u001b[0m\u001b[0;34m=\u001b[0m\u001b[0;32mNone\u001b[0m\u001b[0;34m)\u001b[0m\u001b[0;34m:\u001b[0m\u001b[0;34m\u001b[0m\u001b[0;34m\u001b[0m\u001b[0m\n\u001b[0;32m-> 2135\u001b[0;31m     \u001b[0;32mreturn\u001b[0m \u001b[0mmatplotlib\u001b[0m\u001b[0;34m.\u001b[0m\u001b[0mimage\u001b[0m\u001b[0;34m.\u001b[0m\u001b[0mimread\u001b[0m\u001b[0;34m(\u001b[0m\u001b[0mfname\u001b[0m\u001b[0;34m,\u001b[0m \u001b[0mformat\u001b[0m\u001b[0;34m)\u001b[0m\u001b[0;34m\u001b[0m\u001b[0;34m\u001b[0m\u001b[0m\n\u001b[0m\u001b[1;32m   2136\u001b[0m \u001b[0;34m\u001b[0m\u001b[0m\n\u001b[1;32m   2137\u001b[0m \u001b[0;34m\u001b[0m\u001b[0m\n",
      "\u001b[0;32m/usr/local/anaconda3/lib/python3.7/site-packages/matplotlib/image.py\u001b[0m in \u001b[0;36mimread\u001b[0;34m(fname, format)\u001b[0m\n\u001b[1;32m   1431\u001b[0m             \u001b[0;32mreturn\u001b[0m \u001b[0mhandler\u001b[0m\u001b[0;34m(\u001b[0m\u001b[0mfd\u001b[0m\u001b[0;34m)\u001b[0m\u001b[0;34m\u001b[0m\u001b[0;34m\u001b[0m\u001b[0m\n\u001b[1;32m   1432\u001b[0m         \u001b[0;32melse\u001b[0m\u001b[0;34m:\u001b[0m\u001b[0;34m\u001b[0m\u001b[0;34m\u001b[0m\u001b[0m\n\u001b[0;32m-> 1433\u001b[0;31m             \u001b[0;32mwith\u001b[0m \u001b[0mopen\u001b[0m\u001b[0;34m(\u001b[0m\u001b[0mfname\u001b[0m\u001b[0;34m,\u001b[0m \u001b[0;34m'rb'\u001b[0m\u001b[0;34m)\u001b[0m \u001b[0;32mas\u001b[0m \u001b[0mfd\u001b[0m\u001b[0;34m:\u001b[0m\u001b[0;34m\u001b[0m\u001b[0;34m\u001b[0m\u001b[0m\n\u001b[0m\u001b[1;32m   1434\u001b[0m                 \u001b[0;32mreturn\u001b[0m \u001b[0mhandler\u001b[0m\u001b[0;34m(\u001b[0m\u001b[0mfd\u001b[0m\u001b[0;34m)\u001b[0m\u001b[0;34m\u001b[0m\u001b[0;34m\u001b[0m\u001b[0m\n\u001b[1;32m   1435\u001b[0m     \u001b[0;32melse\u001b[0m\u001b[0;34m:\u001b[0m\u001b[0;34m\u001b[0m\u001b[0;34m\u001b[0m\u001b[0m\n",
      "\u001b[0;31mFileNotFoundError\u001b[0m: [Errno 2] No such file or directory: './results/horse2zebra_pretrained/test_latest/images/n02381460_1010_fake.png'"
     ]
    }
   ],
   "source": [
    "import matplotlib.pyplot as plt\n",
    "\n",
    "img = plt.imread('./results/horse2zebra_pretrained/test_latest/images/n02381460_1010_fake.png')\n",
    "plt.imshow(img)"
   ]
  },
  {
   "cell_type": "code",
   "execution_count": null,
   "metadata": {
    "colab": {},
    "colab_type": "code",
    "id": "0G3oVH9DyqLQ"
   },
   "outputs": [],
   "source": [
    "import matplotlib.pyplot as plt\n",
    "\n",
    "img = plt.imread('./results/horse2zebra_pretrained/test_latest/images/n02381460_1010_real.png')\n",
    "plt.imshow(img)"
   ]
  },
  {
   "cell_type": "code",
   "execution_count": null,
   "metadata": {},
   "outputs": [],
   "source": []
  }
 ],
 "metadata": {
  "accelerator": "GPU",
  "colab": {
   "collapsed_sections": [],
   "include_colab_link": true,
   "name": "CycleGAN",
   "provenance": []
  },
  "kernelspec": {
   "display_name": "Python 3",
   "language": "python",
   "name": "python3"
  },
  "language_info": {
   "codemirror_mode": {
    "name": "ipython",
    "version": 3
   },
   "file_extension": ".py",
   "mimetype": "text/x-python",
   "name": "python",
   "nbconvert_exporter": "python",
   "pygments_lexer": "ipython3",
   "version": "3.7.4"
  }
 },
 "nbformat": 4,
 "nbformat_minor": 1
}
